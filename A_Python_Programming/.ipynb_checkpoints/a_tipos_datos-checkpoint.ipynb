{
 "cells": [
  {
   "cell_type": "markdown",
   "id": "4e1e0b95-4270-41a8-bd08-ca2392f63d58",
   "metadata": {},
   "source": [
    "# 1. Tipos de Datos en Python"
   ]
  },
  {
   "cell_type": "markdown",
   "id": "6f642e73-2c7f-4ba0-9e9c-d1c4e268ad33",
   "metadata": {},
   "source": [
    "## 1.1. Datos Númericos y Texto"
   ]
  },
  {
   "cell_type": "markdown",
   "id": "66b0c2a2-9bc8-40cf-9719-b4c7f8cb5157",
   "metadata": {},
   "source": [
    "Python nos permite diferentes tipos de datos numericos, los más importantes y conocidos son los enteros y decimales. De igual forma nos permite guardar texto. Este lenguaje permite usar caracteres de escape, en nuestro caso `\\n` creará un salto de linea a los objetos que le siguen hasta que encuentre otro caracter de escape."
   ]
  },
  {
   "cell_type": "code",
   "execution_count": 11,
   "id": "7bd4ce6a-30e8-47a2-9675-0adc5a2c803c",
   "metadata": {},
   "outputs": [
    {
     "name": "stdout",
     "output_type": "stream",
     "text": [
      "Osvaldo Roche \n",
      "20 años \n",
      "1.67 Mtrs\n"
     ]
    }
   ],
   "source": [
    "# Ejemplo: Nombre, Edad y Estatura de un cliente\n",
    "\n",
    "Edad = 20\n",
    "Nombre = \"Osvaldo\"\n",
    "Apellido = \"Roche\"\n",
    "Estatura = 1.67\n",
    "print(f'{Nombre} {Apellido} \\n{Edad} años \\n{Estatura} Mtrs')"
   ]
  },
  {
   "cell_type": "markdown",
   "id": "30b5faaf-ac0f-47ca-9ca5-766089630d9c",
   "metadata": {},
   "source": [
    "El caracter `f` antes de las comillas al interior de la función `print()` permite dar formato a la salida"
   ]
  }
 ],
 "metadata": {
  "kernelspec": {
   "display_name": "Python 3 (ipykernel)",
   "language": "python",
   "name": "python3"
  },
  "language_info": {
   "codemirror_mode": {
    "name": "ipython",
    "version": 3
   },
   "file_extension": ".py",
   "mimetype": "text/x-python",
   "name": "python",
   "nbconvert_exporter": "python",
   "pygments_lexer": "ipython3",
   "version": "3.9.13"
  }
 },
 "nbformat": 4,
 "nbformat_minor": 5
}
