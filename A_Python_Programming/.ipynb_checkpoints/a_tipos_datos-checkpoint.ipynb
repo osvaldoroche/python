{
 "cells": [
  {
   "cell_type": "markdown",
   "id": "4e1e0b95-4270-41a8-bd08-ca2392f63d58",
   "metadata": {},
   "source": [
    "# 1. Tipos de Datos en Python"
   ]
  },
  {
   "cell_type": "markdown",
   "id": "6f642e73-2c7f-4ba0-9e9c-d1c4e268ad33",
   "metadata": {},
   "source": [
    "## 1.1. Datos Númericos y Texto"
   ]
  },
  {
   "cell_type": "markdown",
   "id": "66b0c2a2-9bc8-40cf-9719-b4c7f8cb5157",
   "metadata": {},
   "source": [
    "Python nos permite diferentes tipos de datos numericos, los más importantes y conocidos son los enteros y decimales. De igual forma nos permite guardar texto. "
   ]
  },
  {
   "cell_type": "code",
   "execution_count": 1,
   "id": "7bd4ce6a-30e8-47a2-9675-0adc5a2c803c",
   "metadata": {},
   "outputs": [
    {
     "name": "stdout",
     "output_type": "stream",
     "text": [
      "20 Osvaldo Roche 1.67\n"
     ]
    }
   ],
   "source": [
    "# Ejemplo: Nombre, Edad y Estatura de un cliente\n",
    "\n",
    "Edad = 20\n",
    "Nombre = \"Osvaldo\"\n",
    "Apellido = \"Roche\"\n",
    "Estatura = 1.67\n",
    "print(Edad, Nombre, Apellido, Estatura)"
   ]
  },
  {
   "cell_type": "markdown",
   "id": "30b5faaf-ac0f-47ca-9ca5-766089630d9c",
   "metadata": {},
   "source": [
    "Python permite usar caracteres de escape, en nuestro caso `\\n` creará un salto de linea a los objetos que le siguen hasta que encuentre otro caracter de escape. El caracter `f` antes de las comillas al interior de la función `print()` permite dar formato a la salida."
   ]
  },
  {
   "cell_type": "code",
   "execution_count": 8,
   "id": "f1a5c144-4e0b-47e9-878e-4f29b0243b0b",
   "metadata": {},
   "outputs": [
    {
     "name": "stdout",
     "output_type": "stream",
     "text": [
      "Osvaldo Roche \n",
      "20 años \n",
      "1.67\n"
     ]
    }
   ],
   "source": [
    "print(f\"{Nombre} {Apellido} \\n{Edad} años \\n{Estatura}\")"
   ]
  },
  {
   "cell_type": "markdown",
   "id": "78eb6a1d-ba39-4c64-a34d-ec935680616a",
   "metadata": {},
   "source": [
    "## 1.2. Operaciones"
   ]
  },
  {
   "cell_type": "code",
   "execution_count": 2,
   "id": "e8a0c48e-ddfc-470f-990f-f39b123321b3",
   "metadata": {},
   "outputs": [],
   "source": [
    "# Declaración de 2 Variables con sus valores respectivos\n",
    "x = 5\n",
    "y = 19"
   ]
  },
  {
   "cell_type": "markdown",
   "id": "401e5f9a-31cf-4eab-8962-e0c0a07449fb",
   "metadata": {},
   "source": [
    "Operaciones básicas"
   ]
  },
  {
   "cell_type": "code",
   "execution_count": 19,
   "id": "214d0418-7cc4-4acd-ae99-fc63c7d21752",
   "metadata": {},
   "outputs": [
    {
     "name": "stdout",
     "output_type": "stream",
     "text": [
      "24\n",
      "95\n",
      "0.2631578947368421\n",
      "2476099\n",
      "3\n",
      "4\n"
     ]
    }
   ],
   "source": [
    "print(x+y) # suma\n",
    "print(x*y) #Multiplicación \n",
    "print(x / y) #División\n",
    "print(y ** x) #Potenciación\n",
    "print(y // x) #Parte entera de división\n",
    "print(y % x) #Resto"
   ]
  },
  {
   "cell_type": "code",
   "execution_count": 1,
   "id": "c3fb803a-2e48-4acd-a79b-b6d44d27bf14",
   "metadata": {},
   "outputs": [
    {
     "name": "stdout",
     "output_type": "stream",
     "text": [
      "Osvaldo Roche\n",
      "Longitud: 13\n",
      "Multiplicación: OsvaldoOsvaldoOsvaldo\n"
     ]
    }
   ],
   "source": [
    "nombre = \"Osvaldo\"\n",
    "apellido = \"Roche\"\n",
    "nombre_completo = nombre + ' ' + apellido\n",
    "print(nombre_completo)\n",
    "\n",
    "print('Longitud:', len(nombre_completo))\n",
    "print('Multiplicación:', nombre * 3)"
   ]
  },
  {
   "cell_type": "markdown",
   "id": "d189d47f-0440-416b-bcdc-5a9fbe3c51db",
   "metadata": {},
   "source": [
    "## 1.3. índices "
   ]
  },
  {
   "cell_type": "markdown",
   "id": "b917f37c-f75c-4a35-b001-0bfb4440ccf2",
   "metadata": {},
   "source": [
    "Si queremos saber la longitud y la posición de la última letra debemos tener en cuenta que python comienza a contar desde cero."
   ]
  },
  {
   "cell_type": "code",
   "execution_count": 7,
   "id": "64347c2d-b01d-44f4-a2eb-7dadf88b4f25",
   "metadata": {},
   "outputs": [
    {
     "name": "stdout",
     "output_type": "stream",
     "text": [
      "Longitud es: 7 \n",
      "La posición de la sexta letra es o\n"
     ]
    }
   ],
   "source": [
    "print(f'Longitud es: {len(nombre)} \\nLa posición de la sexta letra es {nombre[-1]}')"
   ]
  },
  {
   "cell_type": "code",
   "execution_count": 8,
   "id": "2e95f98a-a5ab-4c96-8ce0-aa1eeece4a98",
   "metadata": {},
   "outputs": [
    {
     "data": {
      "text/plain": [
       "' Roche'"
      ]
     },
     "execution_count": 8,
     "metadata": {},
     "output_type": "execute_result"
    }
   ],
   "source": [
    "nombre_completo[0:7] # El 7 no lo toma, solo llega al 6\n",
    "nombre_completo[7:len(nombre_completo)]"
   ]
  },
  {
   "cell_type": "code",
   "execution_count": 22,
   "id": "4d581fa0-0d0f-41e6-9197-9557372fd156",
   "metadata": {},
   "outputs": [
    {
     "data": {
      "text/plain": [
       "'osvaldo roche'"
      ]
     },
     "execution_count": 22,
     "metadata": {},
     "output_type": "execute_result"
    }
   ],
   "source": [
    "nombre_completo.upper() # mayúsculas\n",
    "nombre_completo.capitalize() # Primera letra de primera palabra en mayúscula\n",
    "nombre_completo.lower() # minúsculas"
   ]
  },
  {
   "cell_type": "markdown",
   "id": "3bc9b529-64ae-4760-9114-256133283a0e",
   "metadata": {},
   "source": [
    "Las funciones no cambian el valor original de la variable"
   ]
  },
  {
   "cell_type": "code",
   "execution_count": 23,
   "id": "a8158c97-67cc-4380-a47f-680daf353069",
   "metadata": {},
   "outputs": [
    {
     "data": {
      "text/plain": [
       "'Osvaldo Roche'"
      ]
     },
     "execution_count": 23,
     "metadata": {},
     "output_type": "execute_result"
    }
   ],
   "source": [
    "nombre_completo"
   ]
  },
  {
   "cell_type": "markdown",
   "id": "7118a069-b38d-46b4-9506-a7a942b154e9",
   "metadata": {},
   "source": [
    "**Otras funciones**"
   ]
  },
  {
   "cell_type": "code",
   "execution_count": 5,
   "id": "26a98758-8025-4a80-a0be-e3056dc040f3",
   "metadata": {},
   "outputs": [
    {
     "data": {
      "text/plain": [
       "8"
      ]
     },
     "execution_count": 5,
     "metadata": {},
     "output_type": "execute_result"
    }
   ],
   "source": [
    "texto = \"   marian0 pedriñ0\"\n",
    "texto.strip() # eliminar espacios\n",
    "texto.replace(\"0\", \"o\") # reemplazar caracteres\n",
    "texto.index(\"n\") # Posición del caracter"
   ]
  },
  {
   "cell_type": "code",
   "execution_count": null,
   "id": "ae1eccdd-0cf8-42c2-b9dd-5d2c96c47984",
   "metadata": {},
   "outputs": [],
   "source": []
  }
 ],
 "metadata": {
  "kernelspec": {
   "display_name": "Python 3 (ipykernel)",
   "language": "python",
   "name": "python3"
  },
  "language_info": {
   "codemirror_mode": {
    "name": "ipython",
    "version": 3
   },
   "file_extension": ".py",
   "mimetype": "text/x-python",
   "name": "python",
   "nbconvert_exporter": "python",
   "pygments_lexer": "ipython3",
   "version": "3.9.13"
  },
  "toc-autonumbering": false,
  "toc-showcode": false,
  "toc-showmarkdowntxt": false,
  "toc-showtags": false
 },
 "nbformat": 4,
 "nbformat_minor": 5
}
