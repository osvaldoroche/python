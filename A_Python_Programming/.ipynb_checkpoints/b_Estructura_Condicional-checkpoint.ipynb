{
 "cells": [
  {
   "cell_type": "markdown",
   "id": "423dab4e-8238-4900-a3bb-14f1dab68a35",
   "metadata": {},
   "source": [
    "# 1. Condicionales"
   ]
  },
  {
   "cell_type": "code",
   "execution_count": 1,
   "id": "f365def2-15eb-4da5-839d-5d62ff925e18",
   "metadata": {},
   "outputs": [
    {
     "name": "stdout",
     "output_type": "stream",
     "text": [
      "Número 8 es mayor que 5\n"
     ]
    }
   ],
   "source": [
    "numero = 8\n",
    "if numero > 5:\n",
    "    print(\"Número\", 8, \"es mayor que 5\")"
   ]
  },
  {
   "cell_type": "markdown",
   "id": "7ebe8817-b1b1-45a8-8d5e-fcb7da280118",
   "metadata": {},
   "source": [
    "**Ejemplo 1:** Programe que pide la edad al usuario y averigua si es mayor de edad"
   ]
  },
  {
   "cell_type": "code",
   "execution_count": 4,
   "id": "be0f6ad1-75ee-41b5-9540-98bfaddcaa7b",
   "metadata": {},
   "outputs": [
    {
     "name": "stdin",
     "output_type": "stream",
     "text": [
      "Cuántos años tienes?  19\n"
     ]
    },
    {
     "name": "stdout",
     "output_type": "stream",
     "text": [
      "Eres mayor de edad\n"
     ]
    }
   ],
   "source": [
    "edad = int(input(\"Cuántos años tienes? \"))\n",
    "\n",
    "if edad > 18:\n",
    "    print('Eres mayor de edad')"
   ]
  },
  {
   "cell_type": "markdown",
   "id": "eaf34e59-db45-48e7-beb3-b28dd92183f7",
   "metadata": {},
   "source": [
    "<br>\n",
    "\n",
    "## 1.2. Condicionales Múltiples y excluyentes"
   ]
  },
  {
   "cell_type": "markdown",
   "id": "f521a50e-4fb5-4dba-810f-045158b3ed74",
   "metadata": {},
   "source": [
    "Existen condicionales mutuamente excluyentes, eso se hace con la condición `else` y `elif`, que sirve como alternativa a otras condiciones no establecidas en `if`."
   ]
  },
  {
   "cell_type": "markdown",
   "id": "f5920e43-8530-4885-8b70-753fcb34140a",
   "metadata": {},
   "source": [
    "**Ejemplo 2:** Muestra las calificaciones de los estudiantes, A, B, C, D, F."
   ]
  },
  {
   "cell_type": "code",
   "execution_count": 7,
   "id": "36140e4a-3a32-4c1b-98a6-994040419373",
   "metadata": {},
   "outputs": [
    {
     "name": "stdin",
     "output_type": "stream",
     "text": [
      "Ingrese su calificación:  45\n"
     ]
    },
    {
     "name": "stdout",
     "output_type": "stream",
     "text": [
      "Grade F: Reprobado\n"
     ]
    }
   ],
   "source": [
    "score = int(input('Ingrese su calificación: '))\n",
    "\n",
    "if score >= 90:\n",
    "    print(\"Grade A: Excelente\")\n",
    "elif score >= 80:\n",
    "    print(\"Grade B: Muy bueno\")\n",
    "elif score >= 70:\n",
    "    print(\"Grade C: Bueno\")\n",
    "elif score >= 60:\n",
    "    print(\"Grade D: Regular\")\n",
    "elif score >= 0:\n",
    "    print(\"Grade F: Reprobado\")\n",
    "else:\n",
    "    print(\"número ingresado es incorrecto\")"
   ]
  },
  {
   "cell_type": "markdown",
   "id": "46af214d-703c-4647-8910-61ca133d56d8",
   "metadata": {},
   "source": [
    "<br>\n",
    "\n",
    "**Ejemplo 3:** Determinar si el número ingresado por el usuario es par o impar"
   ]
  },
  {
   "cell_type": "code",
   "execution_count": 10,
   "id": "0b8bd3b7-0726-4581-93f5-c7cde002bfa1",
   "metadata": {},
   "outputs": [
    {
     "name": "stdin",
     "output_type": "stream",
     "text": [
      "Ingrese un número:  5\n"
     ]
    },
    {
     "name": "stdout",
     "output_type": "stream",
     "text": [
      "El número es impar\n"
     ]
    }
   ],
   "source": [
    "Numero = int(input('Ingrese un número: '))\n",
    "\n",
    "if Numero % 2 == 0:\n",
    "    print(\"El número es par\")\n",
    "elif Numero % 2 != 0:\n",
    "    print(\"El número es impar\")\n",
    "else:\n",
    "    print(\"Elemento ingresado es incorrecto\")\n",
    " "
   ]
  },
  {
   "cell_type": "markdown",
   "id": "020209aa-209c-48b9-8a4c-3e0d6728742a",
   "metadata": {},
   "source": [
    "<br>\n",
    "\n",
    "**Ejemplo 4:** Generar un número aleatorio entre 1 y 5 y le pida al usuario que intente adivinarlo. Si adivina el número que lo felicite por su logro."
   ]
  },
  {
   "cell_type": "code",
   "execution_count": 14,
   "id": "f74ce086-0f1f-4bec-9f2d-246a9c631c44",
   "metadata": {},
   "outputs": [
    {
     "name": "stdin",
     "output_type": "stream",
     "text": [
      "Ingrese su número:  4\n"
     ]
    },
    {
     "name": "stdout",
     "output_type": "stream",
     "text": [
      "Fallaste :( el número era 5\n"
     ]
    }
   ],
   "source": [
    "# Generar número aleatorio\n",
    "\n",
    "import random \n",
    "secreto = random.randint(1,5)\n",
    "\n",
    "# Crear condición\n",
    "numero = int(input('Ingrese su número: '))\n",
    "if numero == secreto:\n",
    "    print(f'Felicidades Adivinaste el número erá {secreto}')\n",
    "else:\n",
    "    print(f'Fallaste :( el número era {secreto}')"
   ]
  },
  {
   "cell_type": "markdown",
   "id": "3630c518-2c19-4ad5-83bb-f625cb18283b",
   "metadata": {},
   "source": [
    "<br>\n",
    "\n",
    "**Ejemplo 5:** Solicitar la calificación y cantidad de asistencias a un curso.\n",
    "Si la calificación es mayor o igual que 60 y la cantidad de asistencias\n",
    "es mayor que 20 entonces que le indique que ha aprobado el curso."
   ]
  },
  {
   "cell_type": "code",
   "execution_count": 20,
   "id": "cee4a066-848a-431c-a897-0bd5126c40ec",
   "metadata": {},
   "outputs": [
    {
     "name": "stdout",
     "output_type": "stream",
     "text": [
      "Felicidades aprobaste!\n"
     ]
    }
   ],
   "source": [
    "#calificacion = int(input('Ingrese la calificación'))\n",
    "#asistencia = int(input('ingrese la cantidad de asistencias'))\n",
    "\n",
    "calificacion = 60\n",
    "asistencia = 21\n",
    "\n",
    "if calificacion >= 60 and asistencia > 20:\n",
    "    print('Felicidades aprobaste!')\n",
    "else:\n",
    "    print('Ha reprobado')\n"
   ]
  },
  {
   "cell_type": "markdown",
   "id": "93496c18-cc93-4746-8040-aba705c6940d",
   "metadata": {},
   "source": [
    "<br>\n",
    "\n",
    "**Ejemplo 6:** Mostrar un menú con los nombres de distintos países de américa\n",
    "y si el usuario selecciona alguna de las opciones mostrar el nombre de\n",
    "la capital de ese país."
   ]
  },
  {
   "cell_type": "code",
   "execution_count": 22,
   "id": "623bef8a-ab3d-4a51-9c1c-13e832cc79e7",
   "metadata": {},
   "outputs": [
    {
     "name": "stdout",
     "output_type": "stream",
     "text": [
      "\n",
      "Menú\n",
      "1. México\n",
      "2. Colombia\n",
      "3. Guatemala\n",
      "4. El Salvador\n",
      "\n"
     ]
    },
    {
     "name": "stdin",
     "output_type": "stream",
     "text": [
      "Ingrese la opción:  3\n"
     ]
    },
    {
     "name": "stdout",
     "output_type": "stream",
     "text": [
      "Ciudad de Guatemala\n"
     ]
    }
   ],
   "source": [
    "## Crear constantes\n",
    "\n",
    "MEX = 1\n",
    "COL = 2\n",
    "GTM = 3\n",
    "SAL = 4\n",
    "\n",
    "## Crear menú\n",
    "\n",
    "print('''\n",
    "Menú\n",
    "1. México\n",
    "2. Colombia\n",
    "3. Guatemala\n",
    "4. El Salvador\n",
    "''')\n",
    "\n",
    "pais = int(input('Ingrese la opción: '))\n",
    "\n",
    "if pais == MEX:\n",
    "    print('Ciudad de México')\n",
    "elif pais == COL:\n",
    "    print('Bógota')\n",
    "elif pais == GTM:\n",
    "    print('Ciudad de Guatemala')\n",
    "elif pais == SAL:\n",
    "    print('San Salvador')\n",
    "else:\n",
    "    print('Opción ingresada es incorrecta')"
   ]
  },
  {
   "cell_type": "markdown",
   "id": "6c7dbce4-1e5d-4d72-9322-d4308dce3a2a",
   "metadata": {},
   "source": [
    "<br> \n",
    "\n",
    "**Ejemplo 7:** Hacer una calculadora Inteligente, para cada operador aritmético el usuario debe decidir que operacion quiere hacer, además de agregar los operandos con los que quiere trabajar. Debe estar validado las operaciones contra la divición entre cero. "
   ]
  },
  {
   "cell_type": "code",
   "execution_count": 10,
   "id": "4a72fa44-08be-457d-8ca7-1b5e633de6c0",
   "metadata": {},
   "outputs": [
    {
     "name": "stdout",
     "output_type": "stream",
     "text": [
      "\n",
      "Opciones:\n",
      "1) Suma\n",
      "2) Multipliación\n",
      "3) División\n",
      "4) Resta\n",
      "5) Potencia\n",
      "\n",
      "La división es: 2.5\n"
     ]
    }
   ],
   "source": [
    "### Elegir la Operación\n",
    "\n",
    "SUMA = 1\n",
    "MULTIPLICACION = 2\n",
    "DIVISION = 3\n",
    "RESTA = 4\n",
    "POTENCIA = 5\n",
    "\n",
    "print('''\n",
    "Opciones:\n",
    "1) Suma\n",
    "2) Multipliación\n",
    "3) División\n",
    "4) Resta\n",
    "5) Potencia\n",
    "''')\n",
    "\n",
    "# opc = int(input('Ingrese el número de operación: '))\n",
    "opc = 3\n",
    "\n",
    "### Pedir operandos\n",
    "\n",
    "# first = int(input('Ingrese el primer operando: '))\n",
    "# first = int(input('Ingrese el segundo operando: '))\n",
    "first = 5\n",
    "second = 2\n",
    "\n",
    "### Condición\n",
    "\n",
    "if opc == SUMA:\n",
    "    print(f'La suma es: {first +  second}')\n",
    "elif opc == MULTIPLICACION:\n",
    "    print(f'La multiplicación es: {first * second}')\n",
    "elif opc == DIVISION:\n",
    "    if second != 0:\n",
    "        print(f'La división es: {first / second}')\n",
    "    else:\n",
    "        print('No se puede dividir por 0')\n",
    "elif opc == RESTA:\n",
    "    print(f'La resta es: {first - second}')\n",
    "elif opc == POTENCIA:\n",
    "    print(f'La potencia es: {first ** second}')\n",
    "else:\n",
    "    print('Opción incorrecta!')\n"
   ]
  },
  {
   "cell_type": "markdown",
   "id": "7a8d2ee3-ffe0-4d6b-a095-86bc239c57a5",
   "metadata": {},
   "source": [
    "<br>\n",
    "\n",
    "**Ejemplo 8:** Implemente un sistema de redondeo de calificaciones. El usuario es el encargado de ingresas su calificación, si\n",
    "a la calificción le falta 5 unidades o menos para el siguiente múltiplo de 10 que lo redondee al siguiente múltiplo de 10, de lo contrario la calificación no es modificada."
   ]
  },
  {
   "cell_type": "code",
   "execution_count": 38,
   "id": "3051e9ec-1588-461c-a1b5-5fbfe9da9147",
   "metadata": {},
   "outputs": [
    {
     "name": "stdout",
     "output_type": "stream",
     "text": [
      "Su calificación es 30\n"
     ]
    }
   ],
   "source": [
    "### PEDIR CALIFICACIÓN\n",
    "\n",
    "score = 28\n",
    "surplus = score % 10 # Pedir el resto de la calificación en base 10\n",
    "\n",
    "if surplus >= 5:\n",
    "    print(f'Su calificación es {score + (10-surplus)}') \n",
    "else:\n",
    "    print(f'Su calificación es {score}')\n"
   ]
  },
  {
   "cell_type": "markdown",
   "id": "79b8fd6a-64a9-41d2-8d7f-62473ec3b9f9",
   "metadata": {},
   "source": [
    "<br>\n",
    "\n",
    "**Ejemplo 9:** Escribe un programa que solicite al usuario ingresar una contraseña y luego verifique si cumple con los siguientes criterios:\n",
    "\n",
    "+ Debe tener al menos 8 caracteres de longitud.\n",
    "+ Debe contener al menos una letra mayúscula y una letra minúscula.\n",
    "+ Debe contener al menos un número."
   ]
  },
  {
   "cell_type": "code",
   "execution_count": 75,
   "id": "39c3fadd-bf52-4e5b-886f-f6b2df9cc01f",
   "metadata": {},
   "outputs": [
    {
     "name": "stdin",
     "output_type": "stream",
     "text": [
      "Ingrese su contraseña:  Osvaldo5\n"
     ]
    },
    {
     "name": "stdout",
     "output_type": "stream",
     "text": [
      "Contraseña creada correctamente\n"
     ]
    }
   ],
   "source": [
    "\n",
    "## DEFINIR LAS CONDICIONES\n",
    "\n",
    "def validar_password(password):\n",
    "    if len(password) < 8:\n",
    "        return False\n",
    "    elif not any(letra.isupper() for letra in password): # Si no tiene mayúscula retorna falso\n",
    "        return False\n",
    "    elif not any(letra.islower() for letra in password):\n",
    "        return False\n",
    "    elif not any(letra.isdigit() for letra in password):\n",
    "        return False\n",
    "    else:\n",
    "        return True # Si se cumplen todas las condiciones anteriores \n",
    "\n",
    "## INGRESAR CONTRASEÑA\n",
    "\n",
    "password = input('Ingrese su contraseña: ')\n",
    "if validar_password(password):\n",
    "    print('Contraseña creada correctamente')\n",
    "else:\n",
    "    print('Debes cumplir todos los requisitos')\n",
    "\n"
   ]
  }
 ],
 "metadata": {
  "kernelspec": {
   "display_name": "Python 3 (ipykernel)",
   "language": "python",
   "name": "python3"
  },
  "language_info": {
   "codemirror_mode": {
    "name": "ipython",
    "version": 3
   },
   "file_extension": ".py",
   "mimetype": "text/x-python",
   "name": "python",
   "nbconvert_exporter": "python",
   "pygments_lexer": "ipython3",
   "version": "3.9.13"
  }
 },
 "nbformat": 4,
 "nbformat_minor": 5
}
