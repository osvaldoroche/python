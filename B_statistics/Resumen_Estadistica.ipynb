{
 "cells": [
  {
   "cell_type": "markdown",
   "id": "8ab442dd-a84e-452f-bef5-07d0913daf8e",
   "metadata": {},
   "source": [
    "# I. Pruebas de Hipótesis"
   ]
  },
  {
   "cell_type": "markdown",
   "id": "91107ae8-65dd-47df-b571-f9658136c386",
   "metadata": {},
   "source": [
    "<p style = \"font-size: 16px\";> \n",
    "<b>Estimación por intervalo:</b> Estimar qué tan cerca está el estimador puntual obtenido de la muestra del valor del parámetro poblacional. </p>"
   ]
  },
  {
   "cell_type": "markdown",
   "id": "a5d46b5f-706e-4230-b273-ecb6a480b75e",
   "metadata": {},
   "source": [
    "**Hipótesis Nula (_Ho_):** \n",
    "+ Es un supuesto tentativo de un parámetro.\n",
    "+ Indica que la decisión es no favorable.\n",
    "+ Indica que el problema no tiene efecto.\n",
    "+ Indica que existe una nula relación estadísticamente significativa.\n",
    "\n",
    "\n",
    "**Hipótesis Alternativa (_Ha_):**\n",
    "+ Es una declaración que contradice la Hipótesis Nula."
   ]
  },
  {
   "cell_type": "markdown",
   "id": "58adafb4-3f56-4fac-9f11-e8a59fe03563",
   "metadata": {},
   "source": [
    "## 1. ¿Qué Hipótesis Elegir?"
   ]
  },
  {
   "cell_type": "markdown",
   "id": "8ac689a3-b3ae-433b-b1f1-5b153cb13957",
   "metadata": {
    "tags": []
   },
   "source": [
    "Al formular una hipótesis se entiende que existe un problema a analizar que se debe detallar para pasar a la formulación de cada hipótesis. \n",
    "\n",
    "+ **La formulación de la hipótesis puede ser favorable:** Cuando acepta el planteamiento del problema o se busca que la hipótesis no sea rechazada.\n",
    "+ **La formulación de la hipótesis puede ser no favorable:** Cuándo es lo contrario al planteamiento del problema o se busca rechazar la hipótesis.\n",
    "\n",
    "*¿Cómo saber cuál hipótesis es favorable y cuál es no favorable?*\n",
    "\n",
    "### Formulación de Hipótesis Alternativa\n",
    "\n",
    "Si existen sificientes datos o evidencias para demostrar la afirmación (investigaciones previas), se recomienda formular la hipótesis alternativa como favorable y convertirla en la conclusión a sustentar. En caso de investigación esta hipótesis se convierte en la hipótesis de investigación. \n",
    "\n",
    "### Formulación de Hipótesis Nula\n",
    "\n",
    "+ Se formula favorable cuando se tiene un parámetro poblacional a evaluar en la formulación del problema, es decir, es un dato del momento que no tiene una investigación previa.\n",
    "+ Se inicia suponiendo que el valor del parámetro es verdadero, por tanto, la hipótesis nula se convierte en verdadera o favorable.\n",
    "+ Si no se rechaza la hipótesis nula no se toma ninguna acción adicional. \n",
    "\n",
    "**EJEMPLO**: \n",
    "\n",
    "Un gerente de hotel cree que \"la cantidad media que gastan los huéspedes en un fin de semana es de $600 o menos\". De manera que es una afirmación del momento y necesita ser evaluada, se empieza formulando de manera favorable la hipótesis nula, ya que es un supuesto a evaluar y se toma a ese parámetro como verdadero. La formualación es:\n",
    "\n",
    "Ho : La cantidad media que gastan los huéspedes en un fin de semana es de $600 o menos.\n",
    "\n",
    "Ha : La cantidad media que gastan los huéspedes en un fin de semana es mayor a $600.\n",
    "\n",
    "$Ho : \\mu <= 600$\n",
    "\n",
    "$Ha : \\mu >  600$\n",
    "\n",
    "Donde:\n",
    "\n",
    "$\\mu$ : \"Cantidad media que gastan los huéspedes en un fin de semana\"\n",
    "\n",
    "### Formas de las hipótesis"
   ]
  },
  {
   "cell_type": "markdown",
   "id": "47912c77-45b7-415c-8fc5-fe96e471d27e",
   "metadata": {
    "tags": []
   },
   "source": [
    "## 2. Prueba de Hipótesis\n",
    "\n",
    "Existen tres Métodos:\n",
    "+ Método del Valor crítico\n",
    "+ Método del Valor p\n",
    "+ Intervalo de confianza\n",
    "\n",
    "### Inferencia con media poblacional desconocia\n",
    "\n",
    "1)\n",
    "2)\n",
    "3)\n",
    "4)\n",
    "5)\n",
    "6)\n",
    "7)\n",
    "8)"
   ]
  },
  {
   "cell_type": "code",
   "execution_count": null,
   "id": "0208820d-fd82-4780-a1d7-fb7b9a09380f",
   "metadata": {},
   "outputs": [],
   "source": []
  }
 ],
 "metadata": {
  "kernelspec": {
   "display_name": "Python 3 (ipykernel)",
   "language": "python",
   "name": "python3"
  },
  "language_info": {
   "codemirror_mode": {
    "name": "ipython",
    "version": 3
   },
   "file_extension": ".py",
   "mimetype": "text/x-python",
   "name": "python",
   "nbconvert_exporter": "python",
   "pygments_lexer": "ipython3",
   "version": "3.9.13"
  }
 },
 "nbformat": 4,
 "nbformat_minor": 5
}
